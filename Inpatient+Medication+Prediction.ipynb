{
 "cells": [
  {
   "cell_type": "markdown",
   "metadata": {
    "deletable": true,
    "editable": true
   },
   "source": [
    "# Preparing Project Library"
   ]
  },
  {
   "cell_type": "code",
   "execution_count": 1,
   "metadata": {
    "collapsed": false
   },
   "outputs": [
    {
     "name": "stdout",
     "output_type": "stream",
     "text": [
      "Collecting h2o\n",
      "  Downloading https://files.pythonhosted.org/packages/42/7d/8f1d4487e0456731ac628a834db79825b6afe960ae75955a27c2468f5953/h2o-3.18.0.11.tar.gz (130.6MB)\n",
      "\u001b[K    100% |████████████████████████████████| 130.6MB 9.1kB/s eta 0:00:01    86% |███████████████████████████▋    | 112.7MB 30.1MB/s eta 0:00:01\n",
      "\u001b[?25hRequirement already satisfied: requests in /usr/local/envs/py3env/lib/python3.5/site-packages (from h2o)\n",
      "Requirement already satisfied: tabulate in /usr/local/envs/py3env/lib/python3.5/site-packages (from h2o)\n",
      "Requirement already satisfied: future in /usr/local/envs/py3env/lib/python3.5/site-packages (from h2o)\n",
      "Collecting colorama>=0.3.8 (from h2o)\n",
      "  Downloading https://files.pythonhosted.org/packages/db/c8/7dcf9dbcb22429512708fe3a547f8b6101c0d02137acbd892505aee57adf/colorama-0.3.9-py2.py3-none-any.whl\n",
      "Requirement already satisfied: chardet<3.1.0,>=3.0.2 in /usr/local/envs/py3env/lib/python3.5/site-packages (from requests->h2o)\n",
      "Requirement already satisfied: idna<2.7,>=2.5 in /usr/local/envs/py3env/lib/python3.5/site-packages (from requests->h2o)\n",
      "Requirement already satisfied: urllib3<1.23,>=1.21.1 in /usr/local/envs/py3env/lib/python3.5/site-packages (from requests->h2o)\n",
      "Requirement already satisfied: certifi>=2017.4.17 in /usr/local/envs/py3env/lib/python3.5/site-packages (from requests->h2o)\n",
      "Building wheels for collected packages: h2o\n",
      "  Running setup.py bdist_wheel for h2o ... \u001b[?25l-\b \b\\\b \b|\b \b/\b \b-\b \bdone\n",
      "\u001b[?25h  Stored in directory: /content/.cache/pip/wheels/79/62/a8/87e5ae300b48b21551cf191ff38ddec6acceb0c6b6b5d8c7fe\n",
      "Successfully built h2o\n",
      "Installing collected packages: colorama, h2o\n",
      "Successfully installed colorama-0.3.9 h2o-3.18.0.11\n",
      "\u001b[33mYou are using pip version 9.0.3, however version 10.0.1 is available.\n",
      "You should consider upgrading via the 'pip install --upgrade pip' command.\u001b[0m\n"
     ]
    }
   ],
   "source": [
    "!pip install h2o"
   ]
  },
  {
   "cell_type": "code",
   "execution_count": 3,
   "metadata": {
    "collapsed": false
   },
   "outputs": [
    {
     "name": "stdout",
     "output_type": "stream",
     "text": [
      "Collecting pyecharts\n",
      "  Downloading https://files.pythonhosted.org/packages/1c/a8/45e5f87ee326fbb48d36650ebb705691e4383529be0ab3281a8a8bffca09/pyecharts-0.5.5-py2.py3-none-any.whl (112kB)\n",
      "\u001b[K    100% |████████████████████████████████| 122kB 2.8MB/s ta 0:00:01\n",
      "\u001b[?25hRequirement already satisfied: future in /usr/local/envs/py3env/lib/python3.5/site-packages (from pyecharts)\n",
      "Requirement already satisfied: jinja2 in /usr/local/envs/py3env/lib/python3.5/site-packages (from pyecharts)\n",
      "Collecting pyecharts-javascripthon==0.0.6 (from pyecharts)\n",
      "  Downloading https://files.pythonhosted.org/packages/6f/68/23644a394341fef4cbcb48a3fa4b2816408a13a1fa3281cf9030b2ac2d67/pyecharts_javascripthon-0.0.6-py2.py3-none-any.whl\n",
      "Requirement already satisfied: pillow in /usr/local/envs/py3env/lib/python3.5/site-packages (from pyecharts)\n",
      "Collecting lml==0.0.2 (from pyecharts)\n",
      "  Downloading https://files.pythonhosted.org/packages/8a/6f/0eb22694df07072ea467effdbb8e313222a21788ea7914773f59fd2bb857/lml-0.0.2-py2.py3-none-any.whl\n",
      "Collecting jupyter-echarts-pypkg==0.1.1 (from pyecharts)\n",
      "  Downloading https://files.pythonhosted.org/packages/d9/6d/3ab8c03c0b4cbcf6f7c2ce2c8643f91b8e59ed90fdb072ba3a2731658a7f/jupyter-echarts-pypkg-0.1.1.tar.gz (514kB)\n",
      "\u001b[K    100% |████████████████████████████████| 522kB 1.6MB/s ta 0:00:01\n",
      "\u001b[?25hRequirement already satisfied: MarkupSafe in /usr/local/envs/py3env/lib/python3.5/site-packages (from jinja2->pyecharts)\n",
      "Collecting javascripthon>=0.10; python_version > \"3.4\" (from pyecharts-javascripthon==0.0.6->pyecharts)\n",
      "  Downloading https://files.pythonhosted.org/packages/ea/ef/b46401e181768b3738660f5dc1f7ea0b334ed17fff685a61503d2989e77e/javascripthon-0.10.tar.gz (538kB)\n",
      "\u001b[K    100% |████████████████████████████████| 542kB 1.7MB/s ta 0:00:01\n",
      "\u001b[?25hRequirement already satisfied: pyecharts-jupyter-installer==0.0.3 in /usr/local/envs/py3env/lib/python3.5/site-packages (from jupyter-echarts-pypkg==0.1.1->pyecharts)\n",
      "Requirement already satisfied: setuptools in /usr/local/envs/py3env/lib/python3.5/site-packages (from javascripthon>=0.10; python_version > \"3.4\"->pyecharts-javascripthon==0.0.6->pyecharts)\n",
      "Collecting dukpy (from javascripthon>=0.10; python_version > \"3.4\"->pyecharts-javascripthon==0.0.6->pyecharts)\n",
      "  Downloading https://files.pythonhosted.org/packages/1d/c7/0dfeef978e83697a84cb461eae325aea994159c4719c7d9ece332113b56f/dukpy-0.2.0-cp35-cp35m-manylinux1_x86_64.whl (2.0MB)\n",
      "\u001b[K    100% |████████████████████████████████| 2.0MB 594kB/s eta 0:00:01\n",
      "\u001b[?25hCollecting macropy3==1.1.0b2 (from javascripthon>=0.10; python_version > \"3.4\"->pyecharts-javascripthon==0.0.6->pyecharts)\n",
      "  Downloading https://files.pythonhosted.org/packages/8c/b7/a61f9d9bd7de80ca51ef362db5bb6434ea21484c907d2a5f396d97b0274c/macropy3-1.1.0b2.tar.gz (44kB)\n",
      "\u001b[K    100% |████████████████████████████████| 51kB 9.6MB/s eta 0:00:01\n",
      "\u001b[?25hBuilding wheels for collected packages: jupyter-echarts-pypkg, javascripthon, macropy3\n",
      "  Running setup.py bdist_wheel for jupyter-echarts-pypkg ... \u001b[?25l-\b \b\\\b \bdone\n",
      "\u001b[?25h  Stored in directory: /content/.cache/pip/wheels/89/8a/50/054d67442cc982f8d99931494653eb690e91eacd20463bbef4\n",
      "  Running setup.py bdist_wheel for javascripthon ... \u001b[?25l-\b \b\\\b \bdone\n",
      "\u001b[?25h  Stored in directory: /content/.cache/pip/wheels/f0/a0/6e/5cac90791fefe9c2961f9d5b2fc9b71da8b9b2f927f4012918\n",
      "  Running setup.py bdist_wheel for macropy3 ... \u001b[?25l-\b \bdone\n",
      "\u001b[?25h  Stored in directory: /content/.cache/pip/wheels/ef/ea/95/65744a6a720d5b0b57779da564c68a3e1b221ea998542a78b3\n",
      "Successfully built jupyter-echarts-pypkg javascripthon macropy3\n",
      "Installing collected packages: dukpy, macropy3, javascripthon, pyecharts-javascripthon, lml, jupyter-echarts-pypkg, pyecharts\n",
      "Successfully installed dukpy-0.2.0 javascripthon-0.10 jupyter-echarts-pypkg-0.1.1 lml-0.0.2 macropy3-1.1.0b2 pyecharts-0.5.5 pyecharts-javascripthon-0.0.6\n",
      "\u001b[33mYou are using pip version 9.0.3, however version 10.0.1 is available.\n",
      "You should consider upgrading via the 'pip install --upgrade pip' command.\u001b[0m\n"
     ]
    }
   ],
   "source": [
    "!pip install  pyecharts"
   ]
  },
  {
   "cell_type": "markdown",
   "metadata": {},
   "source": [
    "# Preparing Project Data"
   ]
  }
 ],
 "metadata": {
  "kernelspec": {
   "display_name": "Python 3",
   "language": "python",
   "name": "python3"
  },
  "language_info": {
   "codemirror_mode": {
    "name": "ipython",
    "version": 3
   },
   "file_extension": ".py",
   "mimetype": "text/x-python",
   "name": "python",
   "nbconvert_exporter": "python",
   "pygments_lexer": "ipython3",
   "version": "3.5.5"
  }
 },
 "nbformat": 4,
 "nbformat_minor": 2
}
